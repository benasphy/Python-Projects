{
  "nbformat": 4,
  "nbformat_minor": 0,
  "metadata": {
    "colab": {
      "provenance": [],
      "authorship_tag": "ABX9TyOuEwrZzT/mLTs4wnywDWNb",
      "include_colab_link": true
    },
    "kernelspec": {
      "name": "python3",
      "display_name": "Python 3"
    },
    "language_info": {
      "name": "python"
    }
  },
  "cells": [
    {
      "cell_type": "markdown",
      "metadata": {
        "id": "view-in-github",
        "colab_type": "text"
      },
      "source": [
        "<a href=\"https://colab.research.google.com/github/benasphy/Python-Projects/blob/main/Easy%20python%20projects.ipynb\" target=\"_parent\"><img src=\"https://colab.research.google.com/assets/colab-badge.svg\" alt=\"Open In Colab\"/></a>"
      ]
    },
    {
      "cell_type": "markdown",
      "source": [
        "Number Guessing"
      ],
      "metadata": {
        "id": "EkPhThVdWkbq"
      }
    },
    {
      "cell_type": "code",
      "execution_count": null,
      "metadata": {
        "colab": {
          "base_uri": "https://localhost:8080/"
        },
        "id": "PeWDAG4vWenh",
        "outputId": "1f45e776-8c04-4ca5-9efe-fe6297ef877e"
      },
      "outputs": [
        {
          "output_type": "stream",
          "name": "stdout",
          "text": [
            "Enter a number: 3\n",
            "Enter a number1\n",
            "You did not got it\n",
            "Enter a number2\n",
            "You did not got it\n",
            "Enter a number3\n",
            "You got it\n"
          ]
        }
      ],
      "source": [
        "import random\n",
        "\n",
        "top_of_range = input(\"Enter a number: \")\n",
        "if top_of_range.isdigit():\n",
        "  top_of_range = int(top_of_range)\n",
        "\n",
        "  if top_of_range <= 0:\n",
        "    print(\"Enter a larger number than 0 next time\")\n",
        "    quit()\n",
        "else:\n",
        "  print(\"Type a number next time\")\n",
        "  quit()\n",
        "\n",
        "random_number = random.randint(0, top_of_range)\n",
        "\n",
        "while True:\n",
        "  user_guess = input(\"Enter a number\")\n",
        "  if user_guess.isdigit():\n",
        "    user_guess = int(user_guess)\n",
        "\n",
        "  else:\n",
        "    print(\"Type a number next time\")\n",
        "    continue\n",
        "\n",
        "  if user_guess == random_number:\n",
        "    print(\"You got it\")\n",
        "    break\n",
        "  else:\n",
        "    print(\"You did not got it\")\n"
      ]
    },
    {
      "cell_type": "markdown",
      "source": [
        "Password Manager"
      ],
      "metadata": {
        "id": "wko04-Tf--UX"
      }
    },
    {
      "cell_type": "code",
      "source": [
        "from cryptography.fernet import Fernet\n",
        "\n",
        "def write_key():\n",
        "    \"\"\"\n",
        "    Generates a key and saves it to a file.\n",
        "    \"\"\"\n",
        "    key = Fernet.generate_key()\n",
        "    with open(\"key.key\", \"wb\") as key_file:\n",
        "        key_file.write(key)\n",
        "\n",
        "def load_key():\n",
        "    \"\"\"\n",
        "    Loads the key from the current directory named `key.key`.\n",
        "    \"\"\"\n",
        "    try:\n",
        "        with open(\"key.key\", \"rb\") as file: # use with to auto-close\n",
        "            return file.read()\n",
        "    except FileNotFoundError: # Handle case if key.key is not found.\n",
        "        print(\"key.key not found. Creating a new key...\")\n",
        "        write_key()\n",
        "        return load_key() # Try loading it again\n",
        "\n",
        "\n",
        "# Call write_key() to generate the key file if it doesn't exist\n",
        "write_key() # This creates the key\n",
        "\n",
        "key = load_key()\n",
        "fer = Fernet(key)\n",
        "\n",
        "\n",
        "def view():\n",
        "    with open('passwords.txt', 'r') as f:\n",
        "        for line in f.readlines():\n",
        "            data = line.rstrip()\n",
        "            user, passw = data.split(\"|\")\n",
        "            print(\"User:\", user, \"| Password:\",\n",
        "                  fer.decrypt(passw.encode()).decode())\n",
        "\n",
        "\n",
        "def add():\n",
        "    name = input('Account Name: ')\n",
        "    pwd = input(\"Password: \")\n",
        "\n",
        "    with open('passwords.txt', 'a') as f:\n",
        "        f.write(name + \"|\" + fer.encrypt(pwd.encode()).decode() + \"\\n\")\n",
        "\n",
        "\n",
        "while True:\n",
        "    mode = input(\n",
        "        \"Would you like to add a new password or view existing ones (view, add), press q to quit? \").lower()\n",
        "    if mode == \"q\":\n",
        "        break\n",
        "\n",
        "    if mode == \"view\":\n",
        "        view()\n",
        "    elif mode == \"add\":\n",
        "        add()\n",
        "    else:\n",
        "        print(\"Invalid mode.\")\n",
        "        continue"
      ],
      "metadata": {
        "colab": {
          "base_uri": "https://localhost:8080/"
        },
        "id": "SkK0OWm_-_4J",
        "outputId": "af41c612-f200-4a3e-ab05-a0c2809a728d"
      },
      "execution_count": 15,
      "outputs": [
        {
          "name": "stdout",
          "output_type": "stream",
          "text": [
            "Would you like to add a new password or view existing ones (view, add), press q to quit? q\n"
          ]
        }
      ]
    }
  ]
}