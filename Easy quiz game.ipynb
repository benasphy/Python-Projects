{
  "nbformat": 4,
  "nbformat_minor": 0,
  "metadata": {
    "colab": {
      "provenance": [],
      "authorship_tag": "ABX9TyMjQE1qawfpicQ5UIpOu9Ma",
      "include_colab_link": true
    },
    "kernelspec": {
      "name": "python3",
      "display_name": "Python 3"
    },
    "language_info": {
      "name": "python"
    }
  },
  "cells": [
    {
      "cell_type": "markdown",
      "metadata": {
        "id": "view-in-github",
        "colab_type": "text"
      },
      "source": [
        "<a href=\"https://colab.research.google.com/github/benasphy/Python-Projects/blob/main/Easy%20quiz%20game.ipynb\" target=\"_parent\"><img src=\"https://colab.research.google.com/assets/colab-badge.svg\" alt=\"Open In Colab\"/></a>"
      ]
    },
    {
      "cell_type": "code",
      "execution_count": 4,
      "metadata": {
        "colab": {
          "base_uri": "https://localhost:8080/"
        },
        "id": "Lmaf6VMgO_b4",
        "outputId": "b124654e-6a4f-48dd-8b1a-74f14b8be3c6"
      },
      "outputs": [
        {
          "output_type": "stream",
          "name": "stdout",
          "text": [
            "Welcome to the ultimate quiz game\n",
            "Do you want to play? yes\n",
            "Let's play\n",
            "What's the capital city of Germany? berlin\n",
            "Correct\n",
            "What's the capital city of England? london\n",
            "Correct\n",
            "What's the capital city of Thailand? bangkok\n",
            "Correct\n",
            "What's the capital city of westeros? kings landing\n",
            "Correct\n",
            "You have got 4 score!\n"
          ]
        }
      ],
      "source": [
        "print(\"Welcome to the ultimate quiz game\")\n",
        "\n",
        "playing = input('Do you want to play? ')\n",
        "if playing.lower() != 'yes':\n",
        "  quit()\n",
        "\n",
        "print(\"Let's play\")\n",
        "\n",
        "score = 0\n",
        "\n",
        "answer = input(\"What's the capital city of Germany? \")\n",
        "if answer.lower() == 'berlin':\n",
        "  print(\"Correct\")\n",
        "  score += 1\n",
        "else:\n",
        "  print(\"Incorrect\")\n",
        "\n",
        "answer = input(\"What's the capital city of England? \")\n",
        "if answer.lower() == 'london':\n",
        "  print(\"Correct\")\n",
        "  score += 1\n",
        "else:\n",
        "  print(\"Incorrect\")\n",
        "\n",
        "answer = input(\"What's the capital city of Thailand? \")\n",
        "if answer.lower() == 'bangkok':\n",
        "  print(\"Correct\")\n",
        "  score += 1\n",
        "else:\n",
        "  print(\"Incorrect\")\n",
        "\n",
        "answer = input(\"What's the capital city of westeros? \")\n",
        "if answer.lower() == 'kings landing':\n",
        "  print(\"Correct\")\n",
        "  score += 1\n",
        "else:\n",
        "  print(\"Incorrect\")\n",
        "\n",
        "\n",
        "print(\"You have got \" + str(score) + \" score!\")"
      ]
    }
  ]
}